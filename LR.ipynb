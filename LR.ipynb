{
  "cells": [
    {
      "cell_type": "markdown",
      "metadata": {
        "id": "view-in-github",
        "colab_type": "text"
      },
      "source": [
        "<a href=\"https://colab.research.google.com/github/dmota-at-umich/MN_public/blob/main/LR.ipynb\" target=\"_parent\"><img src=\"https://colab.research.google.com/assets/colab-badge.svg\" alt=\"Open In Colab\"/></a>"
      ]
    },
    {
      "cell_type": "code",
      "execution_count": null,
      "id": "ad27b168",
      "metadata": {
        "id": "ad27b168"
      },
      "outputs": [],
      "source": [
        "%matplotlib inline"
      ]
    },
    {
      "cell_type": "markdown",
      "source": [
        "Este es un ejemplo de Descenso gradiente tomado de Huawei Lab."
      ],
      "metadata": {
        "id": "flE3zZQsBbS0"
      },
      "id": "flE3zZQsBbS0"
    },
    {
      "cell_type": "code",
      "execution_count": null,
      "id": "6d1f41cf",
      "metadata": {
        "id": "6d1f41cf"
      },
      "outputs": [],
      "source": [
        "import numpy as np\n",
        "import matplotlib.pyplot as plt"
      ]
    },
    {
      "cell_type": "code",
      "execution_count": null,
      "id": "2169e6ce",
      "metadata": {
        "id": "2169e6ce"
      },
      "outputs": [],
      "source": [
        "x=[3,32,22,34,54,34,55,67,89,99]\n",
        "y=[1,10,14,34,44,36,22,67,79,90]\n",
        "x=np.array(x)\n",
        "y=np.array(y)"
      ]
    },
    {
      "cell_type": "code",
      "execution_count": null,
      "id": "53943e7c",
      "metadata": {
        "id": "53943e7c"
      },
      "outputs": [],
      "source": [
        "def model(a,b,x):\n",
        "    return a*x+b"
      ]
    },
    {
      "cell_type": "code",
      "execution_count": null,
      "id": "ad077b2e",
      "metadata": {
        "id": "ad077b2e"
      },
      "outputs": [],
      "source": [
        "def loss_function(a,b,x,y):\n",
        "    num=len(x)\n",
        "    prediction=model(a,b,x)\n",
        "    return (0.5/num)*(np.square(prediction-y)).sum()"
      ]
    },
    {
      "cell_type": "code",
      "execution_count": null,
      "id": "bd191f0d",
      "metadata": {
        "id": "bd191f0d"
      },
      "outputs": [],
      "source": [
        "def optimize(a,b,x,y):\n",
        "    num=len(x)\n",
        "    prediction=model(a,b,x)\n",
        "    da=(1.0/num)*((prediction-y)*x).sum()\n",
        "    db=(1.0/num)*((prediction-y)).sum()\n",
        "    Lr=1e-4\n",
        "    a=a-Lr*da\n",
        "    b=b-Lr*db\n",
        "    return a,b"
      ]
    },
    {
      "cell_type": "code",
      "execution_count": null,
      "id": "80aa099e",
      "metadata": {
        "id": "80aa099e"
      },
      "outputs": [],
      "source": [
        "def iterate(a,b,x,y,times):\n",
        "    for i in range(times):\n",
        "        a,b=optimize(a,b,x,y)\n",
        "    return a,b"
      ]
    },
    {
      "cell_type": "code",
      "execution_count": null,
      "id": "7c2b3052",
      "metadata": {
        "id": "7c2b3052"
      },
      "outputs": [],
      "source": [
        "a=np.random.rand(1) \n",
        "A=np.array([0.943585866722849])"
      ]
    },
    {
      "cell_type": "code",
      "execution_count": null,
      "id": "85b22852",
      "metadata": {
        "id": "85b22852"
      },
      "outputs": [],
      "source": [
        "b=np.random.rand(1)\n",
        "B=np.array([-6.441348882747352])"
      ]
    },
    {
      "cell_type": "code",
      "execution_count": null,
      "id": "8ce3087d",
      "metadata": {
        "scrolled": true,
        "colab": {
          "base_uri": "https://localhost:8080/"
        },
        "id": "8ce3087d",
        "outputId": "869ed600-7ef7-47ce-a34c-ce4b4477f44d"
      },
      "outputs": [
        {
          "output_type": "stream",
          "name": "stdout",
          "text": [
            "[0.42217773] [0.2750272]\n"
          ]
        }
      ],
      "source": [
        "print(a,b)"
      ]
    },
    {
      "cell_type": "code",
      "execution_count": null,
      "id": "09f12853",
      "metadata": {
        "scrolled": true,
        "colab": {
          "base_uri": "https://localhost:8080/",
          "height": 317
        },
        "id": "09f12853",
        "outputId": "8cf13134-4d86-4f4d-c6e9-5247cf061557"
      },
      "outputs": [
        {
          "output_type": "stream",
          "name": "stdout",
          "text": [
            "[0.93533491] [-5.901772] 52.73274247070258\n",
            "[0.94358587] [-6.44134888] 52.69601432661206\n"
          ]
        },
        {
          "output_type": "execute_result",
          "data": {
            "text/plain": [
              "[<matplotlib.lines.Line2D at 0x7f95f078b890>]"
            ]
          },
          "metadata": {},
          "execution_count": 70
        },
        {
          "output_type": "display_data",
          "data": {
            "text/plain": [
              "<Figure size 432x288 with 1 Axes>"
            ],
            "image/png": "[encoded data removed]"
          },
          "metadata": {
            "needs_background": "light"
          }
        }
      ],
      "source": [
        "a,b=iterate(a,b,x,y,100000)\n",
        "prediction=model(a,b,x)\n",
        "loss=loss_function(a,b,x,y)\n",
        "print(a,b,loss)\n",
        "print(A,B,loss_function(A,B,x,y))\n",
        "plt.scatter(x,y)\n",
        "plt.plot(x,prediction)"
      ]
    },
    {
      "cell_type": "code",
      "execution_count": null,
      "id": "d0c0710c",
      "metadata": {
        "id": "d0c0710c"
      },
      "outputs": [],
      "source": [
        ""
      ]
    }
  ],
  "metadata": {
    "kernelspec": {
      "display_name": "Python 3 (ipykernel)",
      "language": "python",
      "name": "python3"
    },
    "language_info": {
      "codemirror_mode": {
        "name": "ipython",
        "version": 3
      },
      "file_extension": ".py",
      "mimetype": "text/x-python",
      "name": "python",
      "nbconvert_exporter": "python",
      "pygments_lexer": "ipython3",
      "version": "3.9.7"
    },
    "colab": {
      "name": "LR.ipynb",
      "provenance": [],
      "collapsed_sections": [],
      "include_colab_link": true
    }
  },
  "nbformat": 4,
  "nbformat_minor": 5
}